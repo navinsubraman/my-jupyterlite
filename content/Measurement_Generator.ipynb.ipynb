{
  "metadata": {
    "language_info": {
      "codemirror_mode": {
        "name": "python",
        "version": 3
      },
      "file_extension": ".py",
      "mimetype": "text/x-python",
      "name": "python",
      "nbconvert_exporter": "python",
      "pygments_lexer": "ipython3",
      "version": "3.8"
    },
    "kernelspec": {
      "name": "python",
      "display_name": "Python (Pyodide)",
      "language": "python"
    }
  },
  "nbformat_minor": 4,
  "nbformat": 4,
  "cells": [
    {
      "cell_type": "markdown",
      "source": "## Install Python Modules (optional)",
      "metadata": {}
    },
    {
      "cell_type": "code",
      "source": "#%pip install -q altair\n#%pip install -q folium\n#%pip install -q ipywidgets\n#%pip install -q ipycanvas\n#%pip install -q bqplot ipyleaflet\n#%pip install -q nbformat plotly",
      "metadata": {
        "tags": [],
        "jupyter": {
          "source_hidden": true
        },
        "trusted": true
      },
      "execution_count": null,
      "outputs": []
    },
    {
      "cell_type": "markdown",
      "source": "## Definition of drivers that are used to train the model",
      "metadata": {}
    },
    {
      "cell_type": "code",
      "source": "import random\n\nclass VoltageSource:\n    '''\n    The voltageSource class represents a voltage source and provides methods for setting various properties of the voltage source, such as output enabled, voltage range, current limit, over-voltage protection, voltage level, trigger source, sense mode, and low terminal mode.\n    '''\n    def __init__(self):\n        '''\n        The __init__ method is the constructor of the class that initializes a new instance of the voltageSource class.\n        '''\n        pass\n\n    def set_output_enabled(self, enabled=True):\n        '''\n        The set_output_enabled method enables or disables the output of the voltage source. \n        \n        Parameters:\n            enabled (bool): If True, it enables the output. If False, it disables the output.\n        '''\n        pass\n\n    def set_voltage_range(self, voltage_range=1):\n        '''\n        The set_voltage_range method sets the voltage range of the voltage source.\n        \n        Parameters:\n            voltage_range (float): The voltage range value is set in units Volt.\n        '''\n        pass\n\n    def set_current_limit(self, current_limit=0.1, behavior=\"regulate\"):\n        '''\n        The set_current_limit method sets the current limit of the voltage source.\n        \n        Parameters:\n            current_limit (float): The current limit value is set in units mA.\n            behaviour (string): Either 'regulate' or 'trip' value is set.\n        '''\n        pass\n\n    def set_ovp(self, opv_limit=1, enabled=True):\n        '''\n        The set_ovp method sets the over-voltage protection of the voltage source.\n        \n        Parameters:\n            ovp_limit (float): The over-voltage protection value is set in units Volt.\n            enabled (bool): If True, enables. If False, disables the over-voltage protection.\n        '''\n        pass\n\n    def set_voltage_level(self, voltage_level=1):\n        '''\n        The set_voltage_level method sets the voltage level of the voltage source.\n        \n        Parameters:\n            voltage_level (float): The voltage level value is set in units Volt.\n        '''\n        pass\n\n    def set_trigger_source(self, source=\"software\", trigger_edge=\"rising\", repetition=True, frequency=1):\n        '''\n        The set_trigger_source method sets the trigger source of the voltage source.\n        '''\n        pass\n\n    def set_sense_mode(self, mode=\"local\"):\n        '''\n        The set_sense_mode method sets the sense mode of the voltage source.\n        '''\n        pass\n\n    def set_low_terminal(self, mode=\"floating\"):\n        '''\n        The set_low_terminal method sets the low terminal mode of the voltage source.\n        '''\n        pass\n\nclass CurrentSource:\n    \"\"\"\n    The CurrentSource class represents a current source and provides methods for setting various properties of the current source,\n    such as output enabled, current range, over-voltage protection, current level, trigger source, and sense mode.\n    \"\"\"\n\n    def __init__(self):\n        \"\"\"\n        Initializes a new instance of the CurrentSource class.\n        \"\"\"\n        pass\n\n    def set_output_enabled(self, enabled=True):\n        \"\"\"\n        Enables or disables the output of the current source.\n\n        Args:\n            enabled (bool): If True, the output is enabled. If False, the output is disabled.\n        \"\"\"\n        pass\n\n    def set_current_range(self, current_range=1):\n        \"\"\"\n        Sets the current range of the current source.\n\n        Args:\n            current_range (float): The current range value to set.\n        \"\"\"\n        pass\n\n    def set_ovp(self, voltage_limit=10, enabled=True):\n        \"\"\"\n        Sets the over-voltage protection of the current source.\n\n        Args:\n            voltage_limit (float): The over-voltage protection limit value to set.\n            enabled (bool): If True, the over-voltage protection is enabled. If False, the over-voltage protection is disabled.\n        \"\"\"\n        pass\n\n    def set_current_level(self, current_level=1):\n        \"\"\"\n        Sets the current level of the current source.\n\n        Args:\n            current_level (float): The current level value to set.\n        \"\"\"\n        pass\n\n    def set_trigger_source(self, source='software'):\n        \"\"\"\n        Sets the trigger source of the current source.\n\n        Args:\n            source (str): The trigger source value to set.\n        \"\"\"\n        pass\n\n    def set_sense_mode(self, sense_mode='local'):\n        \"\"\"\n        Sets the sense mode of the current source.\n\n        Args:\n            sense_mode (str): The sense mode value to set.\n        \"\"\"\n        pass\n\nclass VoltageMeasure:\n    \"\"\"\n    The VoltageMeasure class represents a voltage measurement instrument and provides methods for configuring and\n    measuring the voltage, such as aperture time, auto-zero mode, sense mode, trigger source, and output state.\n    \"\"\"\n\n    def __init__(self):\n        \"\"\"\n        Initializes a new instance of the VoltageMeasure class.\n        \"\"\"\n        pass\n\n    def set_aperture_time(self, aperture_time=0.1):\n        \"\"\"\n        Sets the aperture time for the voltage measurement.\n\n        Args:\n            aperture_time (float): The aperture time value to set.\n        \"\"\"\n        pass\n\n    def set_auto_zero(self, auto_zero_mode='on'):\n        \"\"\"\n        Sets the auto-zero mode for the voltage measurement.\n\n        Args:\n            auto_zero_mode (str): The auto-zero mode value to set.\n        \"\"\"\n        pass\n\n    def set_sense(self, sense_mode='local'):\n        \"\"\"\n        Sets the sense mode for the voltage measurement.\n\n        Args:\n            sense_mode (str): The sense mode value to set.\n        \"\"\"\n        pass\n\n    def query_output_state(self, output_state='voltage'):\n        \"\"\"\n        Queries the output state of the voltage measurement instrument.\n\n        Args:\n            output_state (str): The output state value to query.\n\n        Returns:\n            (str): The output state value returned by the instrument.\n        \"\"\"\n        pass\n\n    def set_trigger_source(self, source='software', trigger_edge='rising'):\n        \"\"\"\n        Sets the trigger source and trigger edge for the voltage measurement.\n\n        Args:\n            source (str): The trigger source value to set.\n            trigger_edge (str): The trigger edge value to set.\n        \"\"\"\n        pass\n\n    def measure_voltage(self):\n        \"\"\"\n        Measures the voltage once and returns the measured voltage value.\n\n        Returns:\n            (float): The measured voltage value.\n        \"\"\"\n        return random.randint(1,100)/10\n\n    def measure_voltage_multiple(self, number_of_measurements=10, frequency_of_measurements=1):\n        \"\"\"\n        Measures the voltage multiple times and returns a list of the measured voltage values.\n\n        Args:\n            number_of_measurements (int): The number of measurements to take.\n            frequency_of_measurements (float): The frequency of measurements in Hz.\n\n        Returns:\n            (list): A list of the measured voltage values.\n        \"\"\"\n        return [random.randint(1,100)/10 for _ in range(number_of_measurements)]\n\nclass CurrentMeasure:\n    \"\"\"\n    The CurrentMeasure class represents a current measurement instrument and provides methods for configuring and\n    measuring the current, such as aperture time, auto-zero mode, sense mode, trigger source, and output state.\n    \"\"\"\n\n    def __init__(self):\n        \"\"\"\n        Initializes a new instance of the CurrentMeasure class.\n        \"\"\"\n        pass\n\n    def set_aperture_time(self, aperture_time=1):\n        \"\"\"\n        Sets the aperture time for the current measurement.\n\n        Args:\n            aperture_time (float): The aperture time value to set.\n        \"\"\"\n        pass\n\n    def set_auto_zero(self, auto_zero_mode='on'):\n        \"\"\"\n        Sets the auto-zero mode for the current measurement.\n\n        Args:\n            auto_zero_mode (str): The auto-zero mode value to set.\n        \"\"\"\n        pass\n\n    def set_sense(self, sense_mode='local'):\n        \"\"\"\n        Sets the sense mode for the current measurement.\n\n        Args:\n            sense_mode (str): The sense mode value to set.\n        \"\"\"\n        pass\n\n    def query_output_state(self, output_state='current'):\n        \"\"\"\n        Queries the output state of the current measurement instrument.\n\n        Args:\n            output_state (str): The output state value to query.\n\n        Returns:\n            (str): The output state value returned by the instrument.\n        \"\"\"\n        pass\n\n    def trigger_source(self, source='software', trigger_edge='rising'):\n        \"\"\"\n        Sets the trigger source and trigger edge for the current measurement.\n\n        Args:\n            source (str): The trigger source value to set.\n            trigger_edge (str): The trigger edge value to set.\n        \"\"\"\n        pass\n\n    def measure_current(self):\n        \"\"\"\n        Measures the current once and returns the measured current value.\n\n        Returns:\n            (float): The measured current value.\n        \"\"\"\n        return random.randint(1,10)/10\n\n    def measure_current_multiple(self, number_of_measurements=10, frequency_of_measurements=1):\n        \"\"\"\n        Measures the current multiple times and returns a list of the measured current values.\n\n        Args:\n            number_of_measurements (int): The number of measurements to take.\n            frequency_of_measurements (float): The frequency of measurements in Hz.\n\n        Returns:\n            (list): A list of the measured current values.\n        \"\"\"\n        return [random.randint(1,10)/10 for _ in range(number_of_measurements)]",
      "metadata": {
        "tags": [],
        "jupyter": {
          "source_hidden": true
        },
        "trusted": true
      },
      "execution_count": null,
      "outputs": []
    },
    {
      "cell_type": "markdown",
      "source": "## Instantiate the classes based on the circuits",
      "metadata": {}
    },
    {
      "cell_type": "code",
      "source": "Vin = VoltageSource()\nVout = VoltageMeasure()\nI = CurrentMeasure()\nIout = CurrentMeasure()\nIin_measure = CurrentMeasure()\nVin_measure = VoltageMeasure()\nIout_source = CurrentSource()",
      "metadata": {
        "jupyter": {
          "source_hidden": true
        },
        "tags": [],
        "trusted": true
      },
      "execution_count": null,
      "outputs": []
    },
    {
      "cell_type": "markdown",
      "source": "## Copy-Paste the AI generated program in the below cell",
      "metadata": {}
    },
    {
      "cell_type": "code",
      "source": "#Install any library/module that the program contains and missing in here using the below commented syntax\n#%pip install <module name>",
      "metadata": {
        "trusted": true
      },
      "execution_count": null,
      "outputs": []
    },
    {
      "cell_type": "code",
      "source": "# Copy the program in this cell\n# Run the program using Menu bar -> Run -> Run all cells\n\n# python program start\n",
      "metadata": {
        "tags": [],
        "trusted": true
      },
      "execution_count": null,
      "outputs": []
    }
  ]
}